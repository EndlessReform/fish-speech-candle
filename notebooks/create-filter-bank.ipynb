{
 "cells": [
  {
   "cell_type": "code",
   "execution_count": 1,
   "metadata": {},
   "outputs": [
    {
     "name": "stdout",
     "output_type": "stream",
     "text": [
      "Mel filter bank saved to melfilters160.bytes\n"
     ]
    }
   ],
   "source": [
    "import numpy as np\n",
    "import librosa\n",
    "import struct\n",
    "\n",
    "# Your audio configuration\n",
    "num_mel_bins = 160\n",
    "sample_rate = 44100\n",
    "n_fft = 2048\n",
    "\n",
    "# Generate the mel filter bank\n",
    "mel_filters = librosa.filters.mel(\n",
    "    sr=sample_rate,\n",
    "    n_fft=n_fft,\n",
    "    n_mels=num_mel_bins,\n",
    "    fmin=0.0,\n",
    "    fmax=None,\n",
    ")\n",
    "\n",
    "# Flatten the 2D array and convert to bytes\n",
    "mel_filters_bytes = struct.pack('<%df' % mel_filters.size, *mel_filters.flatten())\n",
    "\n",
    "# Save to file\n",
    "with open('melfilters160.bytes', 'wb') as f:\n",
    "    f.write(mel_filters_bytes)\n",
    "\n",
    "print(f\"Mel filter bank saved to melfilters160.bytes\")"
   ]
  }
 ],
 "metadata": {
  "kernelspec": {
   "display_name": ".venv",
   "language": "python",
   "name": "python3"
  },
  "language_info": {
   "codemirror_mode": {
    "name": "ipython",
    "version": 3
   },
   "file_extension": ".py",
   "mimetype": "text/x-python",
   "name": "python",
   "nbconvert_exporter": "python",
   "pygments_lexer": "ipython3",
   "version": "3.12.4"
  }
 },
 "nbformat": 4,
 "nbformat_minor": 2
}
